{
  "nbformat": 4,
  "nbformat_minor": 0,
  "metadata": {
    "colab": {
      "provenance": [],
      "authorship_tag": "ABX9TyO8X7qbXC2uuokOqzdI5hA3",
      "include_colab_link": true
    },
    "kernelspec": {
      "name": "python3",
      "display_name": "Python 3"
    },
    "language_info": {
      "name": "python"
    }
  },
  "cells": [
    {
      "cell_type": "markdown",
      "metadata": {
        "id": "view-in-github",
        "colab_type": "text"
      },
      "source": [
        "<a href=\"https://colab.research.google.com/github/brunorchaves/tp_conversao/blob/main/passoEncurtado.ipynb\" target=\"_parent\"><img src=\"https://colab.research.google.com/assets/colab-badge.svg\" alt=\"Open In Colab\"/></a>"
      ]
    },
    {
      "cell_type": "code",
      "execution_count": null,
      "metadata": {
        "id": "i6WWcZkXiI0H"
      },
      "outputs": [],
      "source": [
        "import numpy as np\n",
        "import matplotlib.pyplot as plt\n",
        "\n",
        "# Substitua 'dados.txt' pelo caminho do seu arquivo\n",
        "# Ele deve conter duas colunas:\n",
        "#   coluna 1 = comprimento (mm)\n",
        "#   coluna 2 = H\n",
        "# separadas por espaço ou tab.\n",
        "arquivo = 'h_encurtado.txt'\n",
        "\n",
        "# Carrega o arquivo (pula linhas em branco e comentários iniciados em '#')\n",
        "data = np.loadtxt(arquivo, comments='#')\n",
        "\n",
        "# Se o arquivo tiver colunas invertidas, use: data = np.loadtxt(arquivo, usecols=(1,0))\n",
        "length_mm = data[:, 0]\n",
        "H = data[:, 1]\n",
        "\n",
        "# Plota\n",
        "plt.figure(figsize=(8, 5))\n",
        "plt.plot(length_mm, H, marker='o', linestyle='-')\n",
        "plt.xlabel('Comprimento (mm)')\n",
        "plt.ylabel('H')\n",
        "plt.title('H vs Comprimento')\n",
        "plt.grid(True)\n",
        "plt.tight_layout()\n",
        "plt.show()\n"
      ]
    }
  ]
}